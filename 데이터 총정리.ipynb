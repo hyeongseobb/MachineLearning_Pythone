{
 "cells": [
  {
   "cell_type": "code",
   "execution_count": 1,
   "metadata": {},
   "outputs": [],
   "source": [
    "import pandas as pd\n",
    "import numpy as np"
   ]
  },
  {
   "cell_type": "markdown",
   "metadata": {},
   "source": [
    "### 데이터 불러오기"
   ]
  },
  {
   "cell_type": "code",
   "execution_count": 2,
   "metadata": {
    "scrolled": true
   },
   "outputs": [
    {
     "data": {
      "text/html": [
       "<div>\n",
       "<style scoped>\n",
       "    .dataframe tbody tr th:only-of-type {\n",
       "        vertical-align: middle;\n",
       "    }\n",
       "\n",
       "    .dataframe tbody tr th {\n",
       "        vertical-align: top;\n",
       "    }\n",
       "\n",
       "    .dataframe thead th {\n",
       "        text-align: right;\n",
       "    }\n",
       "</style>\n",
       "<table border=\"1\" class=\"dataframe\">\n",
       "  <thead>\n",
       "    <tr style=\"text-align: right;\">\n",
       "      <th></th>\n",
       "      <th>REGIONID</th>\n",
       "      <th>PRODUCTGROUP</th>\n",
       "      <th>PRODUCT</th>\n",
       "      <th>ITEM</th>\n",
       "      <th>YEARWEEK</th>\n",
       "      <th>YEAR</th>\n",
       "      <th>WEEK</th>\n",
       "      <th>QTY</th>\n",
       "      <th>HOLIDAY</th>\n",
       "      <th>HCLUS</th>\n",
       "      <th>PROMOTION</th>\n",
       "      <th>PRO_PERCENT</th>\n",
       "    </tr>\n",
       "  </thead>\n",
       "  <tbody>\n",
       "    <tr>\n",
       "      <th>0</th>\n",
       "      <td>A01</td>\n",
       "      <td>PG01</td>\n",
       "      <td>P01</td>\n",
       "      <td>ITEM001</td>\n",
       "      <td>201538</td>\n",
       "      <td>2015</td>\n",
       "      <td>38</td>\n",
       "      <td>1</td>\n",
       "      <td>N</td>\n",
       "      <td>4</td>\n",
       "      <td>N</td>\n",
       "      <td>0.0</td>\n",
       "    </tr>\n",
       "    <tr>\n",
       "      <th>1</th>\n",
       "      <td>A01</td>\n",
       "      <td>PG01</td>\n",
       "      <td>P01</td>\n",
       "      <td>ITEM001</td>\n",
       "      <td>201548</td>\n",
       "      <td>2015</td>\n",
       "      <td>48</td>\n",
       "      <td>1</td>\n",
       "      <td>Y</td>\n",
       "      <td>0</td>\n",
       "      <td>N</td>\n",
       "      <td>0.0</td>\n",
       "    </tr>\n",
       "    <tr>\n",
       "      <th>2</th>\n",
       "      <td>A01</td>\n",
       "      <td>PG01</td>\n",
       "      <td>P01</td>\n",
       "      <td>ITEM001</td>\n",
       "      <td>201549</td>\n",
       "      <td>2015</td>\n",
       "      <td>49</td>\n",
       "      <td>2</td>\n",
       "      <td>Y</td>\n",
       "      <td>0</td>\n",
       "      <td>N</td>\n",
       "      <td>0.0</td>\n",
       "    </tr>\n",
       "    <tr>\n",
       "      <th>3</th>\n",
       "      <td>A01</td>\n",
       "      <td>PG01</td>\n",
       "      <td>P01</td>\n",
       "      <td>ITEM002</td>\n",
       "      <td>201526</td>\n",
       "      <td>2015</td>\n",
       "      <td>26</td>\n",
       "      <td>1</td>\n",
       "      <td>Y</td>\n",
       "      <td>1</td>\n",
       "      <td>N</td>\n",
       "      <td>0.0</td>\n",
       "    </tr>\n",
       "    <tr>\n",
       "      <th>4</th>\n",
       "      <td>A01</td>\n",
       "      <td>PG01</td>\n",
       "      <td>P01</td>\n",
       "      <td>ITEM002</td>\n",
       "      <td>201532</td>\n",
       "      <td>2015</td>\n",
       "      <td>32</td>\n",
       "      <td>1</td>\n",
       "      <td>N</td>\n",
       "      <td>4</td>\n",
       "      <td>N</td>\n",
       "      <td>0.0</td>\n",
       "    </tr>\n",
       "  </tbody>\n",
       "</table>\n",
       "</div>"
      ],
      "text/plain": [
       "  REGIONID PRODUCTGROUP PRODUCT     ITEM  YEARWEEK  YEAR  WEEK  QTY HOLIDAY  \\\n",
       "0      A01         PG01     P01  ITEM001    201538  2015    38    1       N   \n",
       "1      A01         PG01     P01  ITEM001    201548  2015    48    1       Y   \n",
       "2      A01         PG01     P01  ITEM001    201549  2015    49    2       Y   \n",
       "3      A01         PG01     P01  ITEM002    201526  2015    26    1       Y   \n",
       "4      A01         PG01     P01  ITEM002    201532  2015    32    1       N   \n",
       "\n",
       "   HCLUS PROMOTION  PRO_PERCENT  \n",
       "0      4         N          0.0  \n",
       "1      0         N          0.0  \n",
       "2      0         N          0.0  \n",
       "3      1         N          0.0  \n",
       "4      4         N          0.0  "
      ]
     },
     "execution_count": 2,
     "metadata": {},
     "output_type": "execute_result"
    }
   ],
   "source": [
    "selloutData = pd.read_csv('../lee/Python_ST_EX/dataset/kopo_decision_tree_all_new.csv')\n",
    "selloutData.head()"
   ]
  },
  {
   "cell_type": "code",
   "execution_count": 3,
   "metadata": {},
   "outputs": [
    {
     "data": {
      "text/plain": [
       "32415"
      ]
     },
     "execution_count": 3,
     "metadata": {},
     "output_type": "execute_result"
    }
   ],
   "source": [
    "len(selloutData)"
   ]
  },
  {
   "cell_type": "markdown",
   "metadata": {},
   "source": [
    "### 1. 지역/상품/아이템별 146개 제품 추출"
   ]
  },
  {
   "cell_type": "code",
   "execution_count": 4,
   "metadata": {},
   "outputs": [],
   "source": [
    "groupKey = [\"REGIONID\", \"PRODUCTGROUP\", \"PRODUCT\", \"ITEM\"]"
   ]
  },
  {
   "cell_type": "code",
   "execution_count": 5,
   "metadata": {},
   "outputs": [],
   "source": [
    "groupData = selloutData.\\\n",
    "                    groupby(groupKey)[\"YEARWEEK\"].\\\n",
    "                    agg([\"size\"]).reset_index()"
   ]
  },
  {
   "cell_type": "code",
   "execution_count": 6,
   "metadata": {},
   "outputs": [],
   "source": [
    "groupData.rename(columns={\"size\":\"KNOB\"}, inplace=True)"
   ]
  },
  {
   "cell_type": "code",
   "execution_count": 7,
   "metadata": {
    "scrolled": true
   },
   "outputs": [
    {
     "data": {
      "text/html": [
       "<div>\n",
       "<style scoped>\n",
       "    .dataframe tbody tr th:only-of-type {\n",
       "        vertical-align: middle;\n",
       "    }\n",
       "\n",
       "    .dataframe tbody tr th {\n",
       "        vertical-align: top;\n",
       "    }\n",
       "\n",
       "    .dataframe thead th {\n",
       "        text-align: right;\n",
       "    }\n",
       "</style>\n",
       "<table border=\"1\" class=\"dataframe\">\n",
       "  <thead>\n",
       "    <tr style=\"text-align: right;\">\n",
       "      <th></th>\n",
       "      <th>REGIONID</th>\n",
       "      <th>PRODUCTGROUP</th>\n",
       "      <th>PRODUCT</th>\n",
       "      <th>ITEM</th>\n",
       "      <th>KNOB</th>\n",
       "    </tr>\n",
       "  </thead>\n",
       "  <tbody>\n",
       "    <tr>\n",
       "      <th>0</th>\n",
       "      <td>A01</td>\n",
       "      <td>PG01</td>\n",
       "      <td>P01</td>\n",
       "      <td>ITEM001</td>\n",
       "      <td>3</td>\n",
       "    </tr>\n",
       "    <tr>\n",
       "      <th>1</th>\n",
       "      <td>A01</td>\n",
       "      <td>PG01</td>\n",
       "      <td>P01</td>\n",
       "      <td>ITEM002</td>\n",
       "      <td>2</td>\n",
       "    </tr>\n",
       "    <tr>\n",
       "      <th>2</th>\n",
       "      <td>A01</td>\n",
       "      <td>PG01</td>\n",
       "      <td>P01</td>\n",
       "      <td>ITEM003</td>\n",
       "      <td>1</td>\n",
       "    </tr>\n",
       "    <tr>\n",
       "      <th>3</th>\n",
       "      <td>A01</td>\n",
       "      <td>PG01</td>\n",
       "      <td>P01</td>\n",
       "      <td>ITEM004</td>\n",
       "      <td>7</td>\n",
       "    </tr>\n",
       "    <tr>\n",
       "      <th>4</th>\n",
       "      <td>A01</td>\n",
       "      <td>PG01</td>\n",
       "      <td>P01</td>\n",
       "      <td>ITEM005</td>\n",
       "      <td>8</td>\n",
       "    </tr>\n",
       "  </tbody>\n",
       "</table>\n",
       "</div>"
      ],
      "text/plain": [
       "  REGIONID PRODUCTGROUP PRODUCT     ITEM  KNOB\n",
       "0      A01         PG01     P01  ITEM001     3\n",
       "1      A01         PG01     P01  ITEM002     2\n",
       "2      A01         PG01     P01  ITEM003     1\n",
       "3      A01         PG01     P01  ITEM004     7\n",
       "4      A01         PG01     P01  ITEM005     8"
      ]
     },
     "execution_count": 7,
     "metadata": {},
     "output_type": "execute_result"
    }
   ],
   "source": [
    "groupData.head()"
   ]
  },
  {
   "cell_type": "code",
   "execution_count": 8,
   "metadata": {
    "scrolled": true
   },
   "outputs": [
    {
     "data": {
      "text/plain": [
       "491"
      ]
     },
     "execution_count": 8,
     "metadata": {},
     "output_type": "execute_result"
    }
   ],
   "source": [
    "len(groupData)"
   ]
  },
  {
   "cell_type": "code",
   "execution_count": 9,
   "metadata": {},
   "outputs": [
    {
     "data": {
      "text/html": [
       "<div>\n",
       "<style scoped>\n",
       "    .dataframe tbody tr th:only-of-type {\n",
       "        vertical-align: middle;\n",
       "    }\n",
       "\n",
       "    .dataframe tbody tr th {\n",
       "        vertical-align: top;\n",
       "    }\n",
       "\n",
       "    .dataframe thead th {\n",
       "        text-align: right;\n",
       "    }\n",
       "</style>\n",
       "<table border=\"1\" class=\"dataframe\">\n",
       "  <thead>\n",
       "    <tr style=\"text-align: right;\">\n",
       "      <th></th>\n",
       "      <th>REGIONID</th>\n",
       "      <th>PRODUCTGROUP</th>\n",
       "      <th>PRODUCT</th>\n",
       "      <th>ITEM</th>\n",
       "      <th>YEARWEEK</th>\n",
       "      <th>YEAR</th>\n",
       "      <th>WEEK</th>\n",
       "      <th>QTY</th>\n",
       "      <th>HOLIDAY</th>\n",
       "      <th>HCLUS</th>\n",
       "      <th>PROMOTION</th>\n",
       "      <th>PRO_PERCENT</th>\n",
       "      <th>KNOB</th>\n",
       "    </tr>\n",
       "  </thead>\n",
       "  <tbody>\n",
       "    <tr>\n",
       "      <th>0</th>\n",
       "      <td>A01</td>\n",
       "      <td>PG01</td>\n",
       "      <td>P01</td>\n",
       "      <td>ITEM001</td>\n",
       "      <td>201538</td>\n",
       "      <td>2015</td>\n",
       "      <td>38</td>\n",
       "      <td>1</td>\n",
       "      <td>N</td>\n",
       "      <td>4</td>\n",
       "      <td>N</td>\n",
       "      <td>0.0</td>\n",
       "      <td>3</td>\n",
       "    </tr>\n",
       "    <tr>\n",
       "      <th>1</th>\n",
       "      <td>A01</td>\n",
       "      <td>PG01</td>\n",
       "      <td>P01</td>\n",
       "      <td>ITEM001</td>\n",
       "      <td>201548</td>\n",
       "      <td>2015</td>\n",
       "      <td>48</td>\n",
       "      <td>1</td>\n",
       "      <td>Y</td>\n",
       "      <td>0</td>\n",
       "      <td>N</td>\n",
       "      <td>0.0</td>\n",
       "      <td>3</td>\n",
       "    </tr>\n",
       "    <tr>\n",
       "      <th>2</th>\n",
       "      <td>A01</td>\n",
       "      <td>PG01</td>\n",
       "      <td>P01</td>\n",
       "      <td>ITEM001</td>\n",
       "      <td>201549</td>\n",
       "      <td>2015</td>\n",
       "      <td>49</td>\n",
       "      <td>2</td>\n",
       "      <td>Y</td>\n",
       "      <td>0</td>\n",
       "      <td>N</td>\n",
       "      <td>0.0</td>\n",
       "      <td>3</td>\n",
       "    </tr>\n",
       "    <tr>\n",
       "      <th>3</th>\n",
       "      <td>A01</td>\n",
       "      <td>PG01</td>\n",
       "      <td>P01</td>\n",
       "      <td>ITEM002</td>\n",
       "      <td>201526</td>\n",
       "      <td>2015</td>\n",
       "      <td>26</td>\n",
       "      <td>1</td>\n",
       "      <td>Y</td>\n",
       "      <td>1</td>\n",
       "      <td>N</td>\n",
       "      <td>0.0</td>\n",
       "      <td>2</td>\n",
       "    </tr>\n",
       "    <tr>\n",
       "      <th>4</th>\n",
       "      <td>A01</td>\n",
       "      <td>PG01</td>\n",
       "      <td>P01</td>\n",
       "      <td>ITEM002</td>\n",
       "      <td>201532</td>\n",
       "      <td>2015</td>\n",
       "      <td>32</td>\n",
       "      <td>1</td>\n",
       "      <td>N</td>\n",
       "      <td>4</td>\n",
       "      <td>N</td>\n",
       "      <td>0.0</td>\n",
       "      <td>2</td>\n",
       "    </tr>\n",
       "  </tbody>\n",
       "</table>\n",
       "</div>"
      ],
      "text/plain": [
       "  REGIONID PRODUCTGROUP PRODUCT     ITEM  YEARWEEK  YEAR  WEEK  QTY HOLIDAY  \\\n",
       "0      A01         PG01     P01  ITEM001    201538  2015    38    1       N   \n",
       "1      A01         PG01     P01  ITEM001    201548  2015    48    1       Y   \n",
       "2      A01         PG01     P01  ITEM001    201549  2015    49    2       Y   \n",
       "3      A01         PG01     P01  ITEM002    201526  2015    26    1       Y   \n",
       "4      A01         PG01     P01  ITEM002    201532  2015    32    1       N   \n",
       "\n",
       "   HCLUS PROMOTION  PRO_PERCENT  KNOB  \n",
       "0      4         N          0.0     3  \n",
       "1      0         N          0.0     3  \n",
       "2      0         N          0.0     3  \n",
       "3      1         N          0.0     2  \n",
       "4      4         N          0.0     2  "
      ]
     },
     "execution_count": 9,
     "metadata": {},
     "output_type": "execute_result"
    }
   ],
   "source": [
    "mergedData = pd.merge(left=selloutData,\n",
    "                                     right=groupData,\n",
    "                                     on = groupKey,\n",
    "                                    how = \"left\")\n",
    "mergedData.head()"
   ]
  },
  {
   "cell_type": "code",
   "execution_count": 10,
   "metadata": {},
   "outputs": [],
   "source": [
    "maxknob = mergedData.KNOB.max()"
   ]
  },
  {
   "cell_type": "code",
   "execution_count": 11,
   "metadata": {},
   "outputs": [],
   "source": [
    "refinedData = mergedData[mergedData.KNOB >= maxknob]"
   ]
  },
  {
   "cell_type": "code",
   "execution_count": 12,
   "metadata": {},
   "outputs": [],
   "source": [
    "sortKey = [\"REGIONID\", \"PRODUCTGROUP\", \"PRODUCT\", \"ITEM\",\"YEARWEEK\"]"
   ]
  },
  {
   "cell_type": "code",
   "execution_count": 13,
   "metadata": {},
   "outputs": [],
   "source": [
    "sortedData = refinedData.sort_values(sortKey).reset_index(drop=True)"
   ]
  },
  {
   "cell_type": "code",
   "execution_count": 14,
   "metadata": {},
   "outputs": [
    {
     "data": {
      "text/html": [
       "<div>\n",
       "<style scoped>\n",
       "    .dataframe tbody tr th:only-of-type {\n",
       "        vertical-align: middle;\n",
       "    }\n",
       "\n",
       "    .dataframe tbody tr th {\n",
       "        vertical-align: top;\n",
       "    }\n",
       "\n",
       "    .dataframe thead th {\n",
       "        text-align: right;\n",
       "    }\n",
       "</style>\n",
       "<table border=\"1\" class=\"dataframe\">\n",
       "  <thead>\n",
       "    <tr style=\"text-align: right;\">\n",
       "      <th></th>\n",
       "      <th>REGIONID</th>\n",
       "      <th>PRODUCTGROUP</th>\n",
       "      <th>PRODUCT</th>\n",
       "      <th>ITEM</th>\n",
       "      <th>YEARWEEK</th>\n",
       "      <th>YEAR</th>\n",
       "      <th>WEEK</th>\n",
       "      <th>QTY</th>\n",
       "      <th>HOLIDAY</th>\n",
       "      <th>HCLUS</th>\n",
       "      <th>PROMOTION</th>\n",
       "      <th>PRO_PERCENT</th>\n",
       "      <th>KNOB</th>\n",
       "    </tr>\n",
       "  </thead>\n",
       "  <tbody>\n",
       "    <tr>\n",
       "      <th>0</th>\n",
       "      <td>A01</td>\n",
       "      <td>PG02</td>\n",
       "      <td>P03</td>\n",
       "      <td>ITEM043</td>\n",
       "      <td>201501</td>\n",
       "      <td>2015</td>\n",
       "      <td>1</td>\n",
       "      <td>87</td>\n",
       "      <td>Y</td>\n",
       "      <td>1</td>\n",
       "      <td>Y</td>\n",
       "      <td>0.197590</td>\n",
       "      <td>146</td>\n",
       "    </tr>\n",
       "    <tr>\n",
       "      <th>1</th>\n",
       "      <td>A01</td>\n",
       "      <td>PG02</td>\n",
       "      <td>P03</td>\n",
       "      <td>ITEM043</td>\n",
       "      <td>201502</td>\n",
       "      <td>2015</td>\n",
       "      <td>2</td>\n",
       "      <td>60</td>\n",
       "      <td>N</td>\n",
       "      <td>4</td>\n",
       "      <td>Y</td>\n",
       "      <td>0.197590</td>\n",
       "      <td>146</td>\n",
       "    </tr>\n",
       "    <tr>\n",
       "      <th>2</th>\n",
       "      <td>A01</td>\n",
       "      <td>PG02</td>\n",
       "      <td>P03</td>\n",
       "      <td>ITEM043</td>\n",
       "      <td>201503</td>\n",
       "      <td>2015</td>\n",
       "      <td>3</td>\n",
       "      <td>51</td>\n",
       "      <td>N</td>\n",
       "      <td>4</td>\n",
       "      <td>N</td>\n",
       "      <td>0.000000</td>\n",
       "      <td>146</td>\n",
       "    </tr>\n",
       "    <tr>\n",
       "      <th>3</th>\n",
       "      <td>A01</td>\n",
       "      <td>PG02</td>\n",
       "      <td>P03</td>\n",
       "      <td>ITEM043</td>\n",
       "      <td>201504</td>\n",
       "      <td>2015</td>\n",
       "      <td>4</td>\n",
       "      <td>37</td>\n",
       "      <td>Y</td>\n",
       "      <td>2</td>\n",
       "      <td>N</td>\n",
       "      <td>0.000000</td>\n",
       "      <td>146</td>\n",
       "    </tr>\n",
       "    <tr>\n",
       "      <th>4</th>\n",
       "      <td>A01</td>\n",
       "      <td>PG02</td>\n",
       "      <td>P03</td>\n",
       "      <td>ITEM043</td>\n",
       "      <td>201505</td>\n",
       "      <td>2015</td>\n",
       "      <td>5</td>\n",
       "      <td>136</td>\n",
       "      <td>N</td>\n",
       "      <td>4</td>\n",
       "      <td>Y</td>\n",
       "      <td>0.201205</td>\n",
       "      <td>146</td>\n",
       "    </tr>\n",
       "  </tbody>\n",
       "</table>\n",
       "</div>"
      ],
      "text/plain": [
       "  REGIONID PRODUCTGROUP PRODUCT     ITEM  YEARWEEK  YEAR  WEEK  QTY HOLIDAY  \\\n",
       "0      A01         PG02     P03  ITEM043    201501  2015     1   87       Y   \n",
       "1      A01         PG02     P03  ITEM043    201502  2015     2   60       N   \n",
       "2      A01         PG02     P03  ITEM043    201503  2015     3   51       N   \n",
       "3      A01         PG02     P03  ITEM043    201504  2015     4   37       Y   \n",
       "4      A01         PG02     P03  ITEM043    201505  2015     5  136       N   \n",
       "\n",
       "   HCLUS PROMOTION  PRO_PERCENT  KNOB  \n",
       "0      1         Y     0.197590   146  \n",
       "1      4         Y     0.197590   146  \n",
       "2      4         N     0.000000   146  \n",
       "3      2         N     0.000000   146  \n",
       "4      4         Y     0.201205   146  "
      ]
     },
     "execution_count": 14,
     "metadata": {},
     "output_type": "execute_result"
    }
   ],
   "source": [
    "sortedData.head()"
   ]
  },
  {
   "cell_type": "code",
   "execution_count": 15,
   "metadata": {},
   "outputs": [
    {
     "data": {
      "text/plain": [
       "201501"
      ]
     },
     "execution_count": 15,
     "metadata": {},
     "output_type": "execute_result"
    }
   ],
   "source": [
    "sortedData.YEARWEEK.min()"
   ]
  },
  {
   "cell_type": "code",
   "execution_count": 16,
   "metadata": {},
   "outputs": [
    {
     "data": {
      "text/plain": [
       "201741"
      ]
     },
     "execution_count": 16,
     "metadata": {},
     "output_type": "execute_result"
    }
   ],
   "source": [
    "sortedData.YEARWEEK.max()"
   ]
  },
  {
   "cell_type": "code",
   "execution_count": 17,
   "metadata": {},
   "outputs": [
    {
     "data": {
      "text/plain": [
       "count      7592.000000\n",
       "mean     201616.917808\n",
       "std          78.836685\n",
       "min      201501.000000\n",
       "25%      201537.000000\n",
       "50%      201620.500000\n",
       "75%      201705.000000\n",
       "max      201741.000000\n",
       "Name: YEARWEEK, dtype: float64"
      ]
     },
     "execution_count": 17,
     "metadata": {},
     "output_type": "execute_result"
    }
   ],
   "source": [
    "sortedData.YEARWEEK.describe()"
   ]
  },
  {
   "cell_type": "code",
   "execution_count": 18,
   "metadata": {},
   "outputs": [],
   "source": [
    "stdYearweek = 201701"
   ]
  },
  {
   "cell_type": "code",
   "execution_count": 19,
   "metadata": {},
   "outputs": [
    {
     "data": {
      "text/plain": [
       "['REGIONID', 'PRODUCTGROUP', 'PRODUCT', 'ITEM']"
      ]
     },
     "execution_count": 19,
     "metadata": {},
     "output_type": "execute_result"
    }
   ],
   "source": [
    "groupKey"
   ]
  },
  {
   "cell_type": "markdown",
   "metadata": {},
   "source": [
    "### 그룹단위 머신러닝 시작"
   ]
  },
  {
   "cell_type": "code",
   "execution_count": 20,
   "metadata": {},
   "outputs": [],
   "source": [
    "groupsData = sortedData.groupby(groupKey)"
   ]
  },
  {
   "cell_type": "code",
   "execution_count": 21,
   "metadata": {},
   "outputs": [
    {
     "data": {
      "text/plain": [
       "52"
      ]
     },
     "execution_count": 21,
     "metadata": {},
     "output_type": "execute_result"
    }
   ],
   "source": [
    "len(groupsData)"
   ]
  },
  {
   "cell_type": "code",
   "execution_count": 22,
   "metadata": {},
   "outputs": [],
   "source": [
    "repeatNum = 3"
   ]
  },
  {
   "cell_type": "code",
   "execution_count": 23,
   "metadata": {
    "scrolled": true
   },
   "outputs": [
    {
     "data": {
      "text/plain": [
       "[0, 0, 0]"
      ]
     },
     "execution_count": 23,
     "metadata": {},
     "output_type": "execute_result"
    }
   ],
   "source": [
    "list(np.repeat(0,repeatNum))"
   ]
  },
  {
   "cell_type": "code",
   "execution_count": 24,
   "metadata": {},
   "outputs": [],
   "source": [
    "def dtPredict(onegroup):\n",
    "    # 디버깅 코드\n",
    "    # onegroup = groupsData.get_group(list(groupsData.groups)[2])\n",
    "    eachgroup = onegroup.reset_index(drop=True)\n",
    "\n",
    "    ### 1. 특성 선별\n",
    "    \n",
    "    corrdf = eachgroup.corr()\n",
    "    corrdfStd = 0.5\n",
    "    features = list(corrdf[(abs(corrdf[\"QTY\"]) >= corrdfStd) &\n",
    "                          (corrdf[\"QTY\"] != 1)].index)\n",
    "    featuresLen = len(features)\n",
    "    label = [\"QTY\"]\n",
    "    testData_all = eachgroup[eachgroup.YEARWEEK >= stdYearweek]\n",
    "    testDataSize = len(testData_all)\n",
    "\n",
    "    if(featuresLen == 0) :\n",
    "            predict = list(np.repeat(0,testDataSize))\n",
    "            testData_all[\"PREDICT\"] = predict\n",
    "    \n",
    "    else:\n",
    "        ### 2. 데이터 분리(훈련 / 테스트) *** 단, 특성/답지도 분리해야함! ***\n",
    "\n",
    "        #훈련할 특성\n",
    "        trainingData_features = eachgroup[eachgroup.YEARWEEK < stdYearweek][features]\n",
    "        #훈련할 답지\n",
    "        trainingData_label = eachgroup[eachgroup.YEARWEEK < stdYearweek][label]\n",
    "\n",
    "        #검증할 특성\n",
    "        testData_features = eachgroup[eachgroup.YEARWEEK >= stdYearweek][features]\n",
    "        #검증할 답지\n",
    "        testData_label = eachgroup[eachgroup.YEARWEEK >= stdYearweek][label]\n",
    "\n",
    "\n",
    "        ### 3. 모델 선언\n",
    "\n",
    "        from sklearn import tree\n",
    "\n",
    "        model_method = tree.DecisionTreeRegressor(random_state=32)\n",
    "\n",
    "\n",
    "        ### 4. 훈련(훈련데이터 특성/답지 활용)\n",
    "\n",
    "        model = model_method.fit(trainingData_features, trainingData_label)\n",
    "\n",
    "\n",
    "        ### 5. 예측 (test 데이터의 feature)\n",
    "\n",
    "        testData_all[\"PREDICT\"] = model.predict(testData_features)\n",
    "\n",
    "    return testData_all"
   ]
  },
  {
   "cell_type": "code",
   "execution_count": 25,
   "metadata": {},
   "outputs": [],
   "source": [
    "predictResult = sortedData.groupby(groupKey).apply(dtPredict).reset_index(drop=True)"
   ]
  },
  {
   "cell_type": "code",
   "execution_count": 26,
   "metadata": {},
   "outputs": [
    {
     "data": {
      "text/plain": [
       "52"
      ]
     },
     "execution_count": 26,
     "metadata": {},
     "output_type": "execute_result"
    }
   ],
   "source": [
    "#groupKey가 중복되는 값을 제거한것의 개수\n",
    "len(predictResult[[\"REGIONID\",\"PRODUCTGROUP\",\"PRODUCT\",\"ITEM\"]].drop_duplicates())"
   ]
  },
  {
   "cell_type": "markdown",
   "metadata": {},
   "source": [
    "### ITEM043 예측치 시각화 해보기(matplotlib 이중축 활용)"
   ]
  },
  {
   "cell_type": "code",
   "execution_count": 27,
   "metadata": {},
   "outputs": [],
   "source": [
    "import matplotlib.pyplot as plt\n",
    "import numpy as np\n",
    "#차트를 만들기 위해 필요한 라이브러리"
   ]
  },
  {
   "cell_type": "code",
   "execution_count": 28,
   "metadata": {},
   "outputs": [],
   "source": [
    "targetItem = \"ITEM043\""
   ]
  },
  {
   "cell_type": "code",
   "execution_count": 29,
   "metadata": {},
   "outputs": [],
   "source": [
    "targetVisual = predictResult[predictResult.ITEM == targetItem]"
   ]
  },
  {
   "cell_type": "code",
   "execution_count": 30,
   "metadata": {},
   "outputs": [],
   "source": [
    "x = targetVisual.YEARWEEK\n",
    "y1 = targetVisual.QTY\n",
    "y2 = targetVisual.PREDICT"
   ]
  },
  {
   "cell_type": "code",
   "execution_count": 31,
   "metadata": {},
   "outputs": [
    {
     "data": {
      "text/plain": [
       "Text(0,0.5,'Expected QTY')"
      ]
     },
     "execution_count": 31,
     "metadata": {},
     "output_type": "execute_result"
    },
    {
     "data": {
      "image/png": "[encoded data removed]",
      "text/plain": [
       "<matplotlib.figure.Figure at 0xb5780f0>"
      ]
     },
     "metadata": {},
     "output_type": "display_data"
    }
   ],
   "source": [
    "fig = plt.figure(figsize=(20,5))\n",
    "ax1 = fig.add_subplot(1,1,1)\n",
    "plt.plot(x,y1, 'b*--',lw=1.5, label = '1st')\n",
    "plt.grid(True)\n",
    "plt.legend(loc=0)\n",
    "plt.ylabel('Actual QTY')\n",
    "plt.title('Item043')\n",
    "\n",
    "ax2 = ax1.twinx()\n",
    "plt.plot(x,y2, 'go-', lw=1.5, label='2nd')\n",
    "plt.legend(loc=0)\n",
    "plt.ylabel('Expected QTY')"
   ]
  },
  {
   "cell_type": "code",
   "execution_count": null,
   "metadata": {},
   "outputs": [],
   "source": []
  },
  {
   "cell_type": "code",
   "execution_count": null,
   "metadata": {},
   "outputs": [],
   "source": []
  }
 ],
 "metadata": {
  "kernelspec": {
   "display_name": "Python 3",
   "language": "python",
   "name": "python3"
  },
  "language_info": {
   "codemirror_mode": {
    "name": "ipython",
    "version": 3
   },
   "file_extension": ".py",
   "mimetype": "text/x-python",
   "name": "python",
   "nbconvert_exporter": "python",
   "pygments_lexer": "ipython3",
   "version": "3.6.4"
  }
 },
 "nbformat": 4,
 "nbformat_minor": 2
}
